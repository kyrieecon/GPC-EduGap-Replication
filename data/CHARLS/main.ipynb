{
 "cells": [
  {
   "cell_type": "code",
   "execution_count": 1,
   "metadata": {},
   "outputs": [
    {
     "name": "stdout",
     "output_type": "stream",
     "text": [
      "\u001b[32m2024-09-30 20:58:46 INFO\u001b[0m: Initializing TidyData cache from directory '_cache'...\n",
      "\u001b[32m2024-09-30 20:58:47 INFO\u001b[0m: Connected cache '_cache' and export directory '_export'.\n",
      "\u001b[32m2024-09-30 20:58:47 INFO\u001b[0m: Added source: CHARLS2011家庭转移模块, V20130312 as key 'transfer2011'.\n",
      "\u001b[32m2024-09-30 20:58:47 INFO\u001b[0m: Added source: CHARLS2013家庭转移模块, V20151118 as key 'transfer2013'.\n",
      "\u001b[32m2024-09-30 20:58:47 INFO\u001b[0m: Added source: CHARLS2015家庭转移模块, V20171011 as key 'transfer2015'.\n",
      "\u001b[32m2024-09-30 20:58:47 INFO\u001b[0m: Added source: CHARLS2018家庭转移模块, V20171011 as key 'transfer2018'.\n",
      "\u001b[32m2024-09-30 20:58:47 INFO\u001b[0m: Added source: CHARLS2011子女模块, v20170920 as key 'child2011'.\n",
      "\u001b[32m2024-09-30 20:58:48 INFO\u001b[0m: Added source: CHARLS2013子女信息模块, V20151118 as key 'child2013'.\n",
      "\u001b[32m2024-09-30 20:58:48 INFO\u001b[0m: Added source: CHARLS2015子女信息模块, V20171011 as key 'child2015'.\n",
      "\u001b[32m2024-09-30 20:58:49 INFO\u001b[0m: Added source: CHARLS2018子女信息模块, V20200914 as key 'child2018'.\n",
      "\u001b[32m2024-09-30 20:58:49 INFO\u001b[0m: Added source: CHARLS主要抽样单元模块, V2011 as key 'psu'.\n",
      "\u001b[32m2024-09-30 20:58:51 INFO\u001b[0m: Added source: Harmonzied CHARLS2011年至2018年受访者基本信息模块, V202106D as key 'resp'.\n",
      "\u001b[32m2024-09-30 20:58:51 SUCCESS\u001b[0m: All sources added from toml file: 'source.toml'.\n",
      "\u001b[32m2024-09-30 20:58:51 INFO\u001b[0m: Took pipe action: 对transfer模块进行格式调整: 仅选取hgkcare as keys ['transfer2011', 'transfer2013', 'transfer2015', 'transfer2018'].\n",
      "\u001b[32m2024-09-30 20:58:53 INFO\u001b[0m: Took pipe action: 对transfer2011-2018进行宽格式转长格式 as keys ['transfer2011', 'transfer2013', 'transfer2015', 'transfer2018'].\n",
      "\u001b[32m2024-09-30 20:58:53 INFO\u001b[0m: Took pipe action: 计算transfer2011-2018的grandchild care参与率和时间 as keys ['transfer2011', 'transfer2013', 'transfer2015', 'transfer2018'].\n",
      "\u001b[32m2024-09-30 20:58:54 INFO\u001b[0m: Took pipe action: 纵向合并transfer2011-2018 as keys ['transfer'].\n",
      "\u001b[32m2024-09-30 20:58:54 INFO\u001b[0m: Took pipe action: 对transfer模块进行格式调整 as keys ['transfer'].\n",
      "\u001b[32m2024-09-30 20:58:56 INFO\u001b[0m: Took pipe action: 对child2018进行宽格式转长格式 as keys ['child2018'].\n",
      "\u001b[32m2024-09-30 20:58:57 INFO\u001b[0m: Took pipe action: 对child2011-child2018新增新的列 as keys ['child2011', 'child2013', 'child2015', 'child2018'].\n",
      "\u001b[32m2024-09-30 20:58:57 INFO\u001b[0m: Took pipe action: 纵向合并child模块基本信息 as keys ['child'].\n",
      "\u001b[32m2024-09-30 20:58:58 INFO\u001b[0m: Took pipe action: 填充child列值 as keys ['child'].\n",
      "\u001b[32m2024-09-30 20:58:58 INFO\u001b[0m: Took pipe action: 对child模块进行格式调整 as keys ['child'].\n",
      "\u001b[32m2024-09-30 20:59:02 INFO\u001b[0m: Took pipe action: 对respondent进行宽格式转长格式 as keys ['resp'].\n",
      "\u001b[32m2024-09-30 20:59:03 INFO\u001b[0m: Took pipe action: 对respondent进行新增列 as keys ['resp'].\n",
      "\u001b[32m2024-09-30 20:59:03 INFO\u001b[0m: Took pipe action: 对respondent进行格式调整 as keys ['resp'].\n",
      "\u001b[32m2024-09-30 20:59:03 INFO\u001b[0m: Took pipe action: 左合并transfer和child as keys ['CHARLS_main'].\n",
      "\u001b[32m2024-09-30 20:59:04 INFO\u001b[0m: Took pipe action: 横向合并child_psu_transfer和resp as keys ['CHARLS_main'].\n",
      "\u001b[32m2024-09-30 20:59:05 INFO\u001b[0m: Took pipe action: 横向合并child和psu as keys ['CHARLS_main'].\n",
      "\u001b[32m2024-09-30 20:59:05 INFO\u001b[0m: Took pipe action: 调整CHARLS的格式 as keys ['CHARLS_main'].\n",
      "\u001b[32m2024-09-30 20:59:05 SUCCESS\u001b[0m: All pipe actions took from toml file: 'pipe.toml'.\n",
      "\u001b[32m2024-09-30 20:59:06 INFO\u001b[0m: Exported datafile: CHARLS 2011家庭转移模块 from key 'transfer2011' to '_export/transfer2011.dta'.\n",
      "\u001b[32m2024-09-30 20:59:06 INFO\u001b[0m: Exported metafile: CHARLS 2011家庭转移模块 from key 'transfer2011' to '_export\\metafile-transfer2011.csv'.\n",
      "\u001b[32m2024-09-30 20:59:06 INFO\u001b[0m: Exported datafile: CHARLS 2013家庭转移模块 from key 'transfer2013' to '_export/transfer2013.dta'.\n",
      "\u001b[32m2024-09-30 20:59:06 INFO\u001b[0m: Exported metafile: CHARLS 2013家庭转移模块 from key 'transfer2013' to '_export\\metafile-transfer2013.csv'.\n",
      "\u001b[32m2024-09-30 20:59:06 INFO\u001b[0m: Exported datafile: CHARLS 2015家庭转移模块 from key 'transfer2015' to '_export/transfer2015.dta'.\n",
      "\u001b[32m2024-09-30 20:59:06 INFO\u001b[0m: Exported metafile: CHARLS 2015家庭转移模块 from key 'transfer2015' to '_export\\metafile-transfer2015.csv'.\n",
      "\u001b[32m2024-09-30 20:59:07 INFO\u001b[0m: Exported datafile: CHARLS 2018家庭转移模块 from key 'transfer2018' to '_export/transfer2018.dta'.\n",
      "\u001b[32m2024-09-30 20:59:07 INFO\u001b[0m: Exported metafile: CHARLS 2018家庭转移模块 from key 'transfer2018' to '_export\\metafile-transfer2018.csv'.\n",
      "\u001b[32m2024-09-30 20:59:08 INFO\u001b[0m: Exported datafile: CHARLS家庭转移模块 from key 'transfer' to '_export/transfer.dta'.\n",
      "\u001b[32m2024-09-30 20:59:08 INFO\u001b[0m: Exported metafile: CHARLS家庭转移模块 from key 'transfer' to '_export\\metafile-transfer.csv'.\n",
      "\u001b[32m2024-09-30 20:59:08 INFO\u001b[0m: Exported datafile: CHARLS 2011子女模块 from key 'child2011' to '_export/child2011.dta'.\n",
      "\u001b[32m2024-09-30 20:59:08 INFO\u001b[0m: Exported metafile: CHARLS 2011子女模块 from key 'child2011' to '_export\\metafile-child2011.csv'.\n",
      "\u001b[32m2024-09-30 20:59:08 INFO\u001b[0m: Exported datafile: CHARLS 2013子女模块 from key 'child2013' to '_export/child2013.dta'.\n",
      "\u001b[32m2024-09-30 20:59:08 INFO\u001b[0m: Exported metafile: CHARLS 2013子女模块 from key 'child2013' to '_export\\metafile-child2013.csv'.\n",
      "\u001b[32m2024-09-30 20:59:09 INFO\u001b[0m: Exported datafile: CHARLS 2015子女模块 from key 'child2015' to '_export/child2015.dta'.\n",
      "\u001b[32m2024-09-30 20:59:09 INFO\u001b[0m: Exported metafile: CHARLS 2015子女模块 from key 'child2015' to '_export\\metafile-child2015.csv'.\n",
      "\u001b[32m2024-09-30 20:59:09 INFO\u001b[0m: Exported datafile: CHARLS 2018子女模块 from key 'child2018' to '_export/child2018.dta'.\n",
      "\u001b[32m2024-09-30 20:59:09 INFO\u001b[0m: Exported metafile: CHARLS 2018子女模块 from key 'child2018' to '_export\\metafile-child2018.csv'.\n",
      "\u001b[32m2024-09-30 20:59:10 INFO\u001b[0m: Exported datafile: CHARLS子女模块 from key 'child' to '_export/child.dta'.\n",
      "\u001b[32m2024-09-30 20:59:10 INFO\u001b[0m: Exported metafile: CHARLS子女模块 from key 'child' to '_export\\metafile-child.csv'.\n",
      "\u001b[32m2024-09-30 20:59:11 INFO\u001b[0m: Exported datafile: CHARLS受访者模块 from key 'resp' to '_export/resp.dta'.\n",
      "\u001b[32m2024-09-30 20:59:11 INFO\u001b[0m: Exported metafile: CHARLS受访者模块 from key 'resp' to '_export\\metafile-resp.csv'.\n",
      "\u001b[32m2024-09-30 20:59:11 INFO\u001b[0m: Exported datafile: CHARLS主要抽样单元模块 from key 'psu' to '_export/psu.dta'.\n",
      "\u001b[32m2024-09-30 20:59:11 INFO\u001b[0m: Exported metafile: CHARLS主要抽样单元模块 from key 'psu' to '_export\\metafile-psu.csv'.\n",
      "\u001b[32m2024-09-30 20:59:13 INFO\u001b[0m: Exported datafile: CHARLS main合并后数据 from key 'CHARLS_main' to '_export/CHARLS_main.dta'.\n",
      "\u001b[32m2024-09-30 20:59:13 INFO\u001b[0m: Exported metafile: CHARLS main合并后数据 from key 'CHARLS_main' to '_export\\metafile-CHARLS_main.csv'.\n",
      "\u001b[32m2024-09-30 20:59:13 SUCCESS\u001b[0m: All data (metadata or statistics) exported from toml file: 'export.toml'.\n"
     ]
    },
    {
     "data": {
      "text/plain": [
       "<tidydata.tidydata.TidyData at 0x2455f0f3b50>"
      ]
     },
     "execution_count": 1,
     "metadata": {},
     "output_type": "execute_result"
    }
   ],
   "source": [
    "from tidydata.tidydata import TidyData\n",
    "\n",
    "TidyData.from_toml('tidydata.toml')"
   ]
  }
 ],
 "metadata": {
  "kernelspec": {
   "display_name": "Python 3",
   "language": "python",
   "name": "python3"
  },
  "language_info": {
   "codemirror_mode": {
    "name": "ipython",
    "version": 3
   },
   "file_extension": ".py",
   "mimetype": "text/x-python",
   "name": "python",
   "nbconvert_exporter": "python",
   "pygments_lexer": "ipython3",
   "version": "3.11.7"
  }
 },
 "nbformat": 4,
 "nbformat_minor": 2
}
